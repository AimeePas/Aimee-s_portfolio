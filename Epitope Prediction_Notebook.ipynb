{
 "cells": [
  {
   "cell_type": "markdown",
   "id": "42d658fb",
   "metadata": {},
   "source": [
    "# DATA MINING"
   ]
  },
  {
   "cell_type": "markdown",
   "id": "010d1c5b",
   "metadata": {},
   "source": [
    "## Brief summary of document\n",
    "This document describes the analysis of a dataset aimed at predicting epitopes for Trypanosoma cruzi (T. cruzi), a parasite causing Chagas’ disease."
   ]
  },
  {
   "cell_type": "markdown",
   "id": "acf287f2",
   "metadata": {},
   "source": [
    "## Exploratory Data Analysis and Data Pre-processing\n"
   ]
  },
  {
   "cell_type": "code",
   "execution_count": 1,
   "id": "9d37005d",
   "metadata": {},
   "outputs": [],
   "source": [
    "## Import modules and functions"
   ]
  },
  {
   "cell_type": "code",
   "execution_count": 2,
   "id": "44aa3097",
   "metadata": {},
   "outputs": [
    {
     "name": "stdout",
     "output_type": "stream",
     "text": [
      "Requirement already satisfied: xgboost in /Users/pracyaim/opt/anaconda3/lib/python3.9/site-packages (2.0.3)\n",
      "Requirement already satisfied: scipy in /Users/pracyaim/opt/anaconda3/lib/python3.9/site-packages (from xgboost) (1.7.3)\n",
      "Requirement already satisfied: numpy in /Users/pracyaim/opt/anaconda3/lib/python3.9/site-packages (from xgboost) (1.22.4)\n",
      "Note: you may need to restart the kernel to use updated packages.\n"
     ]
    }
   ],
   "source": [
    "pip install xgboost"
   ]
  },
  {
   "cell_type": "code",
   "execution_count": 3,
   "id": "85c1244d",
   "metadata": {
    "scrolled": true
   },
   "outputs": [],
   "source": [
    "import pandas as pd\n",
    "import numpy as np\n",
    "import matplotlib.pyplot as plt\n",
    "import seaborn as sns\n",
    "from sklearn.model_selection import GroupShuffleSplit, GridSearchCV, train_test_split\n",
    "from sklearn.impute import SimpleImputer, KNNImputer\n",
    "from sklearn.preprocessing import StandardScaler, MinMaxScaler, RobustScaler\n",
    "from sklearn.decomposition import PCA\n",
    "from sklearn.feature_selection import SelectKBest, f_classif\n",
    "from sklearn.cluster import KMeans\n",
    "from sklearn.ensemble import IsolationForest, RandomForestClassifier\n",
    "from sklearn.tree import DecisionTreeClassifier\n",
    "from sklearn.linear_model import LogisticRegression\n",
    "from xgboost import XGBClassifier\n",
    "from sklearn.neighbors import KNeighborsClassifier\n",
    "from sklearn.metrics import balanced_accuracy_score, accuracy_score\n",
    "from imblearn.over_sampling import SMOTE\n",
    "import pickle\n",
    "import warnings\n",
    "from sklearn.pipeline import Pipeline\n",
    "from sklearn.experimental import enable_iterative_imputer\n",
    "from sklearn.impute import IterativeImputer"
   ]
  },
  {
   "cell_type": "code",
   "execution_count": 4,
   "id": "879eba34",
   "metadata": {},
   "outputs": [],
   "source": [
    "df = pd.read_csv('/Users/Downloads/df.csv',sep=';')"
   ]
  },
  {
   "cell_type": "code",
   "execution_count": 5,
   "id": "ceee6efc",
   "metadata": {},
   "outputs": [
    {
     "data": {
      "text/html": [
       "<div>\n",
       "<style scoped>\n",
       "    .dataframe tbody tr th:only-of-type {\n",
       "        vertical-align: middle;\n",
       "    }\n",
       "\n",
       "    .dataframe tbody tr th {\n",
       "        vertical-align: top;\n",
       "    }\n",
       "\n",
       "    .dataframe thead th {\n",
       "        text-align: right;\n",
       "    }\n",
       "</style>\n",
       "<table border=\"1\" class=\"dataframe\">\n",
       "  <thead>\n",
       "    <tr style=\"text-align: right;\">\n",
       "      <th></th>\n",
       "      <th>Info_PepID</th>\n",
       "      <th>Info_organism_id</th>\n",
       "      <th>Info_protein_id</th>\n",
       "      <th>Info_pos</th>\n",
       "      <th>Info_AA</th>\n",
       "      <th>Info_epitope_id</th>\n",
       "      <th>Info_nPos</th>\n",
       "      <th>Info_nNeg</th>\n",
       "      <th>Info_cluster</th>\n",
       "      <th>Class</th>\n",
       "      <th>...</th>\n",
       "      <th>feat_esm1b_1271</th>\n",
       "      <th>feat_esm1b_1272</th>\n",
       "      <th>feat_esm1b_1273</th>\n",
       "      <th>feat_esm1b_1274</th>\n",
       "      <th>feat_esm1b_1275</th>\n",
       "      <th>feat_esm1b_1276</th>\n",
       "      <th>feat_esm1b_1277</th>\n",
       "      <th>feat_esm1b_1278</th>\n",
       "      <th>feat_esm1b_1279</th>\n",
       "      <th>feat_esm1b_1280</th>\n",
       "    </tr>\n",
       "  </thead>\n",
       "  <tbody>\n",
       "    <tr>\n",
       "      <th>0</th>\n",
       "      <td>XP_809948.1:15</td>\n",
       "      <td>5693</td>\n",
       "      <td>XP_809948.1</td>\n",
       "      <td>218</td>\n",
       "      <td>E</td>\n",
       "      <td>276453</td>\n",
       "      <td>1</td>\n",
       "      <td>0</td>\n",
       "      <td>18</td>\n",
       "      <td>1</td>\n",
       "      <td>...</td>\n",
       "      <td>-0.177248</td>\n",
       "      <td>-0.275432</td>\n",
       "      <td>0.175780</td>\n",
       "      <td>-2.618115</td>\n",
       "      <td>-0.306478</td>\n",
       "      <td>0.248409</td>\n",
       "      <td>-0.144645</td>\n",
       "      <td>-0.163276</td>\n",
       "      <td>0.101016</td>\n",
       "      <td>0.571763</td>\n",
       "    </tr>\n",
       "    <tr>\n",
       "      <th>1</th>\n",
       "      <td>XP_809948.1:15</td>\n",
       "      <td>5693</td>\n",
       "      <td>XP_809948.1</td>\n",
       "      <td>219</td>\n",
       "      <td>E</td>\n",
       "      <td>276453</td>\n",
       "      <td>1</td>\n",
       "      <td>0</td>\n",
       "      <td>18</td>\n",
       "      <td>1</td>\n",
       "      <td>...</td>\n",
       "      <td>-0.089673</td>\n",
       "      <td>-0.258615</td>\n",
       "      <td>0.063662</td>\n",
       "      <td>-2.660741</td>\n",
       "      <td>-0.227916</td>\n",
       "      <td>0.233011</td>\n",
       "      <td>-0.143840</td>\n",
       "      <td>-0.119282</td>\n",
       "      <td>0.146848</td>\n",
       "      <td>0.507656</td>\n",
       "    </tr>\n",
       "    <tr>\n",
       "      <th>2</th>\n",
       "      <td>XP_809948.1:15</td>\n",
       "      <td>5693</td>\n",
       "      <td>XP_809948.1</td>\n",
       "      <td>220</td>\n",
       "      <td>D</td>\n",
       "      <td>276453</td>\n",
       "      <td>1</td>\n",
       "      <td>0</td>\n",
       "      <td>18</td>\n",
       "      <td>1</td>\n",
       "      <td>...</td>\n",
       "      <td>-0.037816</td>\n",
       "      <td>-0.205189</td>\n",
       "      <td>0.220458</td>\n",
       "      <td>-2.610207</td>\n",
       "      <td>-0.156326</td>\n",
       "      <td>0.231606</td>\n",
       "      <td>0.251916</td>\n",
       "      <td>0.077030</td>\n",
       "      <td>0.326192</td>\n",
       "      <td>0.071661</td>\n",
       "    </tr>\n",
       "    <tr>\n",
       "      <th>3</th>\n",
       "      <td>XP_809948.1:15</td>\n",
       "      <td>5693</td>\n",
       "      <td>XP_809948.1</td>\n",
       "      <td>221</td>\n",
       "      <td>N</td>\n",
       "      <td>276453</td>\n",
       "      <td>1</td>\n",
       "      <td>0</td>\n",
       "      <td>18</td>\n",
       "      <td>1</td>\n",
       "      <td>...</td>\n",
       "      <td>-0.249216</td>\n",
       "      <td>-0.211748</td>\n",
       "      <td>-0.130716</td>\n",
       "      <td>-2.598186</td>\n",
       "      <td>-0.130838</td>\n",
       "      <td>-0.026848</td>\n",
       "      <td>0.167203</td>\n",
       "      <td>-0.394126</td>\n",
       "      <td>0.222274</td>\n",
       "      <td>0.376358</td>\n",
       "    </tr>\n",
       "    <tr>\n",
       "      <th>4</th>\n",
       "      <td>XP_809948.1:15</td>\n",
       "      <td>5693</td>\n",
       "      <td>XP_809948.1</td>\n",
       "      <td>222</td>\n",
       "      <td>E</td>\n",
       "      <td>276453</td>\n",
       "      <td>1</td>\n",
       "      <td>0</td>\n",
       "      <td>18</td>\n",
       "      <td>1</td>\n",
       "      <td>...</td>\n",
       "      <td>-0.039318</td>\n",
       "      <td>-0.250912</td>\n",
       "      <td>-0.093870</td>\n",
       "      <td>-2.414023</td>\n",
       "      <td>-0.253500</td>\n",
       "      <td>0.118345</td>\n",
       "      <td>-0.160718</td>\n",
       "      <td>-0.076750</td>\n",
       "      <td>0.448067</td>\n",
       "      <td>0.326883</td>\n",
       "    </tr>\n",
       "    <tr>\n",
       "      <th>...</th>\n",
       "      <td>...</td>\n",
       "      <td>...</td>\n",
       "      <td>...</td>\n",
       "      <td>...</td>\n",
       "      <td>...</td>\n",
       "      <td>...</td>\n",
       "      <td>...</td>\n",
       "      <td>...</td>\n",
       "      <td>...</td>\n",
       "      <td>...</td>\n",
       "      <td>...</td>\n",
       "      <td>...</td>\n",
       "      <td>...</td>\n",
       "      <td>...</td>\n",
       "      <td>...</td>\n",
       "      <td>...</td>\n",
       "      <td>...</td>\n",
       "      <td>...</td>\n",
       "      <td>...</td>\n",
       "      <td>...</td>\n",
       "      <td>...</td>\n",
       "    </tr>\n",
       "    <tr>\n",
       "      <th>49601</th>\n",
       "      <td>XP_812261.1:6</td>\n",
       "      <td>5693</td>\n",
       "      <td>XP_812261.1</td>\n",
       "      <td>94</td>\n",
       "      <td>I</td>\n",
       "      <td>300245</td>\n",
       "      <td>0</td>\n",
       "      <td>1</td>\n",
       "      <td>157</td>\n",
       "      <td>-1</td>\n",
       "      <td>...</td>\n",
       "      <td>0.472350</td>\n",
       "      <td>-0.247337</td>\n",
       "      <td>-0.309765</td>\n",
       "      <td>0.190045</td>\n",
       "      <td>-0.181312</td>\n",
       "      <td>-0.058894</td>\n",
       "      <td>0.025527</td>\n",
       "      <td>-0.083306</td>\n",
       "      <td>-0.002887</td>\n",
       "      <td>0.077993</td>\n",
       "    </tr>\n",
       "    <tr>\n",
       "      <th>49602</th>\n",
       "      <td>XP_804477.1:18</td>\n",
       "      <td>5693</td>\n",
       "      <td>XP_804477.1</td>\n",
       "      <td>370</td>\n",
       "      <td>D</td>\n",
       "      <td>373881,390461,251259,388295</td>\n",
       "      <td>0,0,0,0</td>\n",
       "      <td>1,1,1,1</td>\n",
       "      <td>35</td>\n",
       "      <td>-1</td>\n",
       "      <td>...</td>\n",
       "      <td>0.001537</td>\n",
       "      <td>-0.036722</td>\n",
       "      <td>0.038110</td>\n",
       "      <td>-2.018414</td>\n",
       "      <td>-0.437113</td>\n",
       "      <td>-0.024533</td>\n",
       "      <td>0.138691</td>\n",
       "      <td>-0.172405</td>\n",
       "      <td>0.448034</td>\n",
       "      <td>-0.251285</td>\n",
       "    </tr>\n",
       "    <tr>\n",
       "      <th>49603</th>\n",
       "      <td>XP_813734.1:4</td>\n",
       "      <td>5693</td>\n",
       "      <td>XP_813734.1</td>\n",
       "      <td>112</td>\n",
       "      <td>G</td>\n",
       "      <td>356379,323345</td>\n",
       "      <td>0,0</td>\n",
       "      <td>1,1</td>\n",
       "      <td>24</td>\n",
       "      <td>-1</td>\n",
       "      <td>...</td>\n",
       "      <td>-0.208069</td>\n",
       "      <td>-0.180131</td>\n",
       "      <td>-0.014111</td>\n",
       "      <td>-1.502984</td>\n",
       "      <td>-0.317111</td>\n",
       "      <td>0.012365</td>\n",
       "      <td>0.132795</td>\n",
       "      <td>-0.324255</td>\n",
       "      <td>0.145919</td>\n",
       "      <td>0.072326</td>\n",
       "    </tr>\n",
       "    <tr>\n",
       "      <th>49604</th>\n",
       "      <td>XP_812183.1:6</td>\n",
       "      <td>5693</td>\n",
       "      <td>XP_812183.1</td>\n",
       "      <td>144</td>\n",
       "      <td>G</td>\n",
       "      <td>301626,297474</td>\n",
       "      <td>0,0</td>\n",
       "      <td>1,1</td>\n",
       "      <td>18</td>\n",
       "      <td>-1</td>\n",
       "      <td>...</td>\n",
       "      <td>-0.275757</td>\n",
       "      <td>-0.179628</td>\n",
       "      <td>0.013488</td>\n",
       "      <td>-1.108764</td>\n",
       "      <td>-0.278636</td>\n",
       "      <td>0.388318</td>\n",
       "      <td>-0.034176</td>\n",
       "      <td>-0.226525</td>\n",
       "      <td>0.577863</td>\n",
       "      <td>0.172114</td>\n",
       "    </tr>\n",
       "    <tr>\n",
       "      <th>49605</th>\n",
       "      <td>XP_814147.1:10</td>\n",
       "      <td>5693</td>\n",
       "      <td>XP_814147.1</td>\n",
       "      <td>190</td>\n",
       "      <td>E</td>\n",
       "      <td>309252</td>\n",
       "      <td>0</td>\n",
       "      <td>1</td>\n",
       "      <td>70</td>\n",
       "      <td>-1</td>\n",
       "      <td>...</td>\n",
       "      <td>-0.109526</td>\n",
       "      <td>-0.199076</td>\n",
       "      <td>0.050413</td>\n",
       "      <td>-1.877750</td>\n",
       "      <td>-0.419302</td>\n",
       "      <td>-0.021825</td>\n",
       "      <td>-0.138143</td>\n",
       "      <td>-0.517270</td>\n",
       "      <td>0.334061</td>\n",
       "      <td>0.237317</td>\n",
       "    </tr>\n",
       "  </tbody>\n",
       "</table>\n",
       "<p>49606 rows × 1291 columns</p>\n",
       "</div>"
      ],
      "text/plain": [
       "           Info_PepID  Info_organism_id Info_protein_id  Info_pos Info_AA  \\\n",
       "0      XP_809948.1:15              5693     XP_809948.1       218       E   \n",
       "1      XP_809948.1:15              5693     XP_809948.1       219       E   \n",
       "2      XP_809948.1:15              5693     XP_809948.1       220       D   \n",
       "3      XP_809948.1:15              5693     XP_809948.1       221       N   \n",
       "4      XP_809948.1:15              5693     XP_809948.1       222       E   \n",
       "...               ...               ...             ...       ...     ...   \n",
       "49601   XP_812261.1:6              5693     XP_812261.1        94       I   \n",
       "49602  XP_804477.1:18              5693     XP_804477.1       370       D   \n",
       "49603   XP_813734.1:4              5693     XP_813734.1       112       G   \n",
       "49604   XP_812183.1:6              5693     XP_812183.1       144       G   \n",
       "49605  XP_814147.1:10              5693     XP_814147.1       190       E   \n",
       "\n",
       "                   Info_epitope_id Info_nPos Info_nNeg  Info_cluster  Class  \\\n",
       "0                           276453         1         0            18      1   \n",
       "1                           276453         1         0            18      1   \n",
       "2                           276453         1         0            18      1   \n",
       "3                           276453         1         0            18      1   \n",
       "4                           276453         1         0            18      1   \n",
       "...                            ...       ...       ...           ...    ...   \n",
       "49601                       300245         0         1           157     -1   \n",
       "49602  373881,390461,251259,388295   0,0,0,0   1,1,1,1            35     -1   \n",
       "49603                356379,323345       0,0       1,1            24     -1   \n",
       "49604                301626,297474       0,0       1,1            18     -1   \n",
       "49605                       309252         0         1            70     -1   \n",
       "\n",
       "       ...  feat_esm1b_1271  feat_esm1b_1272  feat_esm1b_1273  \\\n",
       "0      ...        -0.177248        -0.275432         0.175780   \n",
       "1      ...        -0.089673        -0.258615         0.063662   \n",
       "2      ...        -0.037816        -0.205189         0.220458   \n",
       "3      ...        -0.249216        -0.211748        -0.130716   \n",
       "4      ...        -0.039318        -0.250912        -0.093870   \n",
       "...    ...              ...              ...              ...   \n",
       "49601  ...         0.472350        -0.247337        -0.309765   \n",
       "49602  ...         0.001537        -0.036722         0.038110   \n",
       "49603  ...        -0.208069        -0.180131        -0.014111   \n",
       "49604  ...        -0.275757        -0.179628         0.013488   \n",
       "49605  ...        -0.109526        -0.199076         0.050413   \n",
       "\n",
       "       feat_esm1b_1274  feat_esm1b_1275  feat_esm1b_1276  feat_esm1b_1277  \\\n",
       "0            -2.618115        -0.306478         0.248409        -0.144645   \n",
       "1            -2.660741        -0.227916         0.233011        -0.143840   \n",
       "2            -2.610207        -0.156326         0.231606         0.251916   \n",
       "3            -2.598186        -0.130838        -0.026848         0.167203   \n",
       "4            -2.414023        -0.253500         0.118345        -0.160718   \n",
       "...                ...              ...              ...              ...   \n",
       "49601         0.190045        -0.181312        -0.058894         0.025527   \n",
       "49602        -2.018414        -0.437113        -0.024533         0.138691   \n",
       "49603        -1.502984        -0.317111         0.012365         0.132795   \n",
       "49604        -1.108764        -0.278636         0.388318        -0.034176   \n",
       "49605        -1.877750        -0.419302        -0.021825        -0.138143   \n",
       "\n",
       "       feat_esm1b_1278  feat_esm1b_1279  feat_esm1b_1280  \n",
       "0            -0.163276         0.101016         0.571763  \n",
       "1            -0.119282         0.146848         0.507656  \n",
       "2             0.077030         0.326192         0.071661  \n",
       "3            -0.394126         0.222274         0.376358  \n",
       "4            -0.076750         0.448067         0.326883  \n",
       "...                ...              ...              ...  \n",
       "49601        -0.083306        -0.002887         0.077993  \n",
       "49602        -0.172405         0.448034        -0.251285  \n",
       "49603        -0.324255         0.145919         0.072326  \n",
       "49604        -0.226525         0.577863         0.172114  \n",
       "49605        -0.517270         0.334061         0.237317  \n",
       "\n",
       "[49606 rows x 1291 columns]"
      ]
     },
     "execution_count": 5,
     "metadata": {},
     "output_type": "execute_result"
    }
   ],
   "source": [
    "df"
   ]
  },
  {
   "cell_type": "code",
   "execution_count": 6,
   "id": "5917d5d8",
   "metadata": {},
   "outputs": [],
   "source": [
    "\n",
    "#### Data Overview"
   ]
  },
  {
   "cell_type": "code",
   "execution_count": 7,
   "id": "271dd09a",
   "metadata": {},
   "outputs": [
    {
     "name": "stdout",
     "output_type": "stream",
     "text": [
      "Number of integer columns: 4\n",
      "Number of float columns: 1281\n",
      "Number of string columns: 6\n"
     ]
    }
   ],
   "source": [
    "# Total number of columns that fall into each category\n",
    "\n",
    "int_count = 0\n",
    "float_count = 0\n",
    "string_count = 0\n",
    "for column in df.columns:\n",
    "    if df[column].dtype == 'int64':  \n",
    "        int_count += 1\n",
    "    elif df[column].dtype == 'float64': \n",
    "        float_count += 1\n",
    "    elif df[column].dtype == 'object':\n",
    "        string_count +=1\n",
    "print(\"Number of integer columns:\", int_count)\n",
    "print(\"Number of float columns:\", float_count)\n",
    "print(\"Number of string columns:\", string_count)"
   ]
  },
  {
   "cell_type": "code",
   "execution_count": 8,
   "id": "ff699c71",
   "metadata": {},
   "outputs": [
    {
     "name": "stdout",
     "output_type": "stream",
     "text": [
      "int columns: ['Info_organism_id', 'Info_pos', 'Info_cluster', 'Class']\n"
     ]
    }
   ],
   "source": [
    "# Columns in integer category\n",
    "\n",
    "int_columns = []  \n",
    "for column in df.columns:\n",
    "    if df[column].dtype == 'int64': \n",
    "        int_columns.append(column)  \n",
    "\n",
    "print(\"int columns:\", int_columns)"
   ]
  },
  {
   "cell_type": "code",
   "execution_count": 9,
   "id": "6d12f3a9",
   "metadata": {},
   "outputs": [
    {
     "name": "stdout",
     "output_type": "stream",
     "text": [
      "int columns: ['Info_PepID', 'Info_protein_id', 'Info_AA', 'Info_epitope_id', 'Info_nPos', 'Info_nNeg']\n"
     ]
    }
   ],
   "source": [
    "# Columns in float category\n",
    "\n",
    "int_columns = []  \n",
    "for column in df.columns:\n",
    "    if df[column].dtype == 'object': \n",
    "        int_columns.append(column)  \n",
    "\n",
    "print(\"int columns:\", int_columns)\n"
   ]
  },
  {
   "cell_type": "code",
   "execution_count": 10,
   "id": "34424b6b",
   "metadata": {},
   "outputs": [
    {
     "name": "stdout",
     "output_type": "stream",
     "text": [
      "Number of unique values in 'Info_cluster': 4208\n"
     ]
    }
   ],
   "source": [
    "# Group number in 'Info_cluster' column\n",
    "\n",
    "unique_info_clusters = df['Info_PepID'].nunique()    \n",
    "print(\"Number of unique values in 'Info_cluster':\", unique_info_clusters)"
   ]
  },
  {
   "cell_type": "code",
   "execution_count": 11,
   "id": "4a66218a",
   "metadata": {
    "scrolled": false
   },
   "outputs": [
    {
     "name": "stdout",
     "output_type": "stream",
     "text": [
      "<class 'pandas.core.frame.DataFrame'>\n",
      "RangeIndex: 49606 entries, 0 to 49605\n",
      "Columns: 1291 entries, Info_PepID to feat_esm1b_1280\n",
      "dtypes: float64(1281), int64(4), object(6)\n",
      "memory usage: 488.6+ MB\n",
      "None\n",
      "Class\n",
      "-1    48797\n",
      " 1      809\n",
      "Name: count, dtype: int64\n"
     ]
    }
   ],
   "source": [
    "# Overview of Class column\n",
    "print(df.info())\n",
    "print(df['Class'].value_counts())\n"
   ]
  },
  {
   "cell_type": "code",
   "execution_count": 12,
   "id": "f9f80876",
   "metadata": {},
   "outputs": [
    {
     "data": {
      "image/png": "[encoded data removed]",
      "text/plain": [
       "<Figure size 700x400 with 1 Axes>"
      ]
     },
     "metadata": {},
     "output_type": "display_data"
    }
   ],
   "source": [
    "\n",
    "# Plotting Class distribution\n",
    "class_counts = df['Class'].value_counts()\n",
    "plt.figure(figsize=(7, 4))\n",
    "sns.barplot(x=class_counts.index, y=class_counts.values)\n",
    "plt.title('Initial Class Distribution')\n",
    "plt.xlabel('Class')\n",
    "plt.ylabel('Proportion')\n",
    "plt.xticks(rotation=0)\n",
    "plt.show()\n",
    "\n"
   ]
  },
  {
   "cell_type": "code",
   "execution_count": 13,
   "id": "906e5d34",
   "metadata": {},
   "outputs": [
    {
     "name": "stdout",
     "output_type": "stream",
     "text": [
      "Number of duplicates: 0\n"
     ]
    }
   ],
   "source": [
    "# Duplicates\n",
    "duplicates = df.duplicated()\n",
    "\n",
    "print(\"Number of duplicates:\", duplicates.sum())"
   ]
  },
  {
   "cell_type": "markdown",
   "id": "8c5baa07",
   "metadata": {},
   "source": [
    "No duplicates in our dataset."
   ]
  },
  {
   "cell_type": "code",
   "execution_count": 14,
   "id": "c9e1dac8",
   "metadata": {},
   "outputs": [
    {
     "name": "stdout",
     "output_type": "stream",
     "text": [
      "Info_cluster  Class\n",
      "7             -1       1.0\n",
      "8             -1       1.0\n",
      "9             -1       1.0\n",
      "10            -1       1.0\n",
      "11            -1       1.0\n",
      "                      ... \n",
      "279           -1       1.0\n",
      "280           -1       1.0\n",
      "281           -1       1.0\n",
      "282           -1       1.0\n",
      "283           -1       1.0\n",
      "Name: proportion, Length: 298, dtype: float64\n",
      "Number of unique class balances: 67\n"
     ]
    }
   ],
   "source": [
    "# Checking the proportion of each Class within each 'Info_cluster' group\n",
    "\n",
    "class_balance = df.groupby('Info_cluster')['Class'].value_counts(normalize=True)\n",
    "\n",
    "# Print class balance within each Info_cluster\n",
    "print(class_balance)\n",
    "\n",
    "# Count the number of unique class balances\n",
    "num_unique_class_balances = class_balance.value_counts().shape[0]\n",
    "print(\"Number of unique class balances:\", num_unique_class_balances)"
   ]
  },
  {
   "cell_type": "markdown",
   "id": "5dabab95",
   "metadata": {},
   "source": [
    "### unique class balance in info columns to analyse the variability in our class distributions across:\n",
    "\n",
    "1  in 'Info_PepID'\n",
    "2  in 'Info_organism_id'\n",
    "65 in 'Info_protein_id'\n",
    "76 in 'Info_pos'\n",
    "35 in 'Info_AA'\n",
    "1  in 'Info_epitope_id'\n",
    "1  in 'Info_nPos'\n",
    "1  in 'Info_nNeg'\n",
    "1  in 'Info_nNeg'\n",
    "57 in 'nfo_cluster' \n",
    "\n"
   ]
  },
  {
   "cell_type": "code",
   "execution_count": 15,
   "id": "7afa5afe",
   "metadata": {},
   "outputs": [
    {
     "name": "stdout",
     "output_type": "stream",
     "text": [
      "Number of Info columns': 9\n",
      "Number of Feature columns': 1281\n",
      "Info_cluster' and 'Class' with Feature columns: 1283\n"
     ]
    }
   ],
   "source": [
    "# Separating columns  to avoid the destruction of relevant informations\n",
    "\n",
    "# Info columns\n",
    "info_columns = [col for col in df.columns if col.startswith(\"Info\")]\n",
    "\n",
    "# Feature columns\n",
    "feat_columns = [col for col in df.columns if col.startswith(\"feat\")]\n",
    "\n",
    "# Concatenate 'Info_cluster' and 'Class' with Feature columns\n",
    "\n",
    "df_three = pd.concat([df[['Info_cluster', 'Class']], df[feat_columns]], axis=1)\n",
    "feat_info_class_columns = feat_info_class_columns = df_three.columns\n",
    "\n",
    "print(\"Number of Info columns':\", len(info_columns))\n",
    "print(\"Number of Feature columns':\", len(feat_columns))\n",
    "print(\"Info_cluster' and 'Class' with Feature columns:\", len(feat_info_class_columns))"
   ]
  },
  {
   "cell_type": "code",
   "execution_count": 16,
   "id": "4ee306ed",
   "metadata": {},
   "outputs": [],
   "source": [
    "#Dataframe with Info_cluster,Class and feature columns\n",
    "\n",
    "df_fic = pd.concat([df[['Info_cluster', 'Class']], df[feat_columns]], axis=1)\n",
    "df_feat = df[feat_columns]\n",
    "fic_columns = df_three.columns.tolist()"
   ]
  },
  {
   "cell_type": "code",
   "execution_count": 17,
   "id": "4f2e4171",
   "metadata": {},
   "outputs": [],
   "source": [
    "# Splitting the data into train and test sets based on Info_cluster using GroupShuffleSplit\n",
    "\n",
    "gss = GroupShuffleSplit(n_splits=1, test_size=0.2, random_state=29)\n",
    "\n",
    "for train_index, test_index in gss.split(df_fic, groups=df_three['Info_cluster']):\n",
    "    df_train = df_fic.iloc[train_index]\n",
    "    df_test = df_fic.iloc[test_index]\n",
    "    \n",
    "# Class and info_cluster columns together in one dataframe\n",
    "df_train_info_class = df_train[['Info_cluster', 'Class']]\n",
    "\n",
    "# Dropping 'Info_cluster' and 'Class' columns to create feature dataframes\n",
    "df_train_feat = df_train.drop(['Info_cluster', 'Class'], axis=1)"
   ]
  },
  {
   "cell_type": "code",
   "execution_count": 18,
   "id": "7483cee7",
   "metadata": {},
   "outputs": [
    {
     "name": "stdout",
     "output_type": "stream",
     "text": [
      "Number of missing values in the 'Class' column: 0\n"
     ]
    }
   ],
   "source": [
    "# Missing values in the 'Class' column\n",
    "missing_values_class = df_train['Class'].isnull().sum()\n",
    "\n",
    "\n",
    "print(\"Number of missing values in the 'Class' column:\", missing_values_class)"
   ]
  },
  {
   "cell_type": "code",
   "execution_count": 19,
   "id": "eb1d3ce4",
   "metadata": {},
   "outputs": [
    {
     "name": "stdout",
     "output_type": "stream",
     "text": [
      "Number of columns with missing values: 1281\n",
      "Total number of missing values: 126027\n"
     ]
    }
   ],
   "source": [
    "# Counting missing values in Feature columns\n",
    "columns_with_missing_values_count = df_train.isnull().any().sum()\n",
    "total_missing_values = df_train.isnull().sum().sum()\n",
    "\n",
    "print(\"Number of columns with missing values:\", columns_with_missing_values_count)\n",
    "print(\"Total number of missing values:\", total_missing_values)"
   ]
  },
  {
   "cell_type": "code",
   "execution_count": 20,
   "id": "d25aa1ac",
   "metadata": {},
   "outputs": [
    {
     "name": "stdout",
     "output_type": "stream",
     "text": [
      "Columns with missing values and their percentages:\n",
      "feat_esm1b_148     72.799661\n",
      "feat_esm1b_177      0.149176\n",
      "feat_esm1b_902      0.149176\n",
      "feat_esm1b_1018     0.149176\n",
      "feat_esm1b_576      0.149176\n",
      "                     ...    \n",
      "feat_esm1b_823      0.129017\n",
      "feat_esm1b_1131     0.129017\n",
      "feat_esm1b_778      0.129017\n",
      "feat_esm1b_494      0.129017\n",
      "feat_esm1b_257      0.122969\n",
      "Length: 1281, dtype: float64\n"
     ]
    }
   ],
   "source": [
    "#Percentage of missing values per feature column\n",
    "missing_percentage = (df_train_feat.isna().sum() / len(df_feat)) * 100\n",
    "missing_percentage_sorted = missing_percentage[missing_percentage > 0].sort_values(ascending=False)\n",
    "\n",
    "print(\"Columns with missing values and their percentages:\")\n",
    "print(missing_percentage_sorted)"
   ]
  },
  {
   "cell_type": "markdown",
   "id": "1eb54309",
   "metadata": {},
   "source": [
    "##### All feature columns have missing values as missing values are seen in all 290 colums."
   ]
  },
  {
   "cell_type": "code",
   "execution_count": 21,
   "id": "00b6d7bf",
   "metadata": {},
   "outputs": [
    {
     "data": {
      "image/png": "[encoded data removed]",
      "text/plain": [
       "<Figure size 1000x600 with 1 Axes>"
      ]
     },
     "metadata": {},
     "output_type": "display_data"
    }
   ],
   "source": [
    "# Visualising the variable imbalance \n",
    "\n",
    "max_values = df_train_feat.max()\n",
    "min_values = df_train_feat.min()\n",
    "plt.figure(figsize=(10, 6))\n",
    "plt.plot(max_values, label='Max Values', marker='o')\n",
    "plt.plot(min_values, label='Min Values', marker='x')\n",
    "plt.xlabel('Feature Index')\n",
    "plt.ylabel('Feature Value')\n",
    "plt.title('Variable Imbalance')\n",
    "plt.legend()\n",
    "plt.grid(True)\n",
    "plt.show()\n",
    "\n",
    "\n"
   ]
  },
  {
   "cell_type": "code",
   "execution_count": 22,
   "id": "8fc8e757",
   "metadata": {},
   "outputs": [
    {
     "data": {
      "image/png": "[encoded data removed]",
      "text/plain": [
       "<Figure size 640x480 with 1 Axes>"
      ]
     },
     "metadata": {},
     "output_type": "display_data"
    }
   ],
   "source": [
    "#  Visualising the variable range distribution\n",
    "ranges = df_train_feat.max() - df_train_feat.min()\n",
    "\n",
    "plt.hist(ranges, bins=20, color='skyblue', edgecolor='black')\n",
    "plt.xlabel('Range')\n",
    "plt.ylabel('Frequency')\n",
    "plt.title('Histogram of Ranges for Numerical Variables')\n",
    "plt.grid(True)\n",
    "plt.show()\n",
    "\n"
   ]
  },
  {
   "cell_type": "markdown",
   "id": "c657da4c",
   "metadata": {},
   "source": [
    "####  Handling The missing Values"
   ]
  },
  {
   "cell_type": "code",
   "execution_count": 23,
   "id": "16604afb",
   "metadata": {},
   "outputs": [
    {
     "name": "stdout",
     "output_type": "stream",
     "text": [
      "Number of missing values after imputation in 'feat_esm1b_148' column:\n",
      "0\n"
     ]
    }
   ],
   "source": [
    "#Multiple Imputation for 'feat_esm1b_148' as it's missing more than 75% of data \n",
    "\n",
    "imputer = IterativeImputer(random_state=29)\n",
    "\n",
    "# Reshape  'feat_esm1b_148' to a 2D array\n",
    "feat_esm1b_148_column_2d = df_train_feat['feat_esm1b_148'].values.reshape(-1, 1)\n",
    "\n",
    "imputed_feat_esm1b_148_column = imputer.fit_transform(feat_esm1b_148_column_2d)\n",
    "\n",
    "# Convert the imputed array back to a Series\n",
    "imputed_feat_esm1b_148_column = pd.Series(imputed_feat_esm1b_148_column.flatten(), name='feat_esm1b_148')\n",
    "\n",
    "print(\"Number of missing values after imputation in 'feat_esm1b_148' column:\")\n",
    "print(imputed_feat_esm1b_148_column.isnull().sum())\n"
   ]
  },
  {
   "cell_type": "code",
   "execution_count": 24,
   "id": "0d24abad",
   "metadata": {},
   "outputs": [],
   "source": [
    "# Simple imputation for remaining columns missing less than 25% of data using median as the data is skewed\n",
    "\n",
    "np.random.seed(29)\n",
    "imputer = SimpleImputer(strategy='median')\n",
    "df_imputed_feat = pd.DataFrame(imputer.fit_transform(df_train_feat.drop(columns=['feat_esm1b_148'])), columns=df_train_feat.drop(columns=['feat_esm1b_148']).columns)\n",
    "n_clusters = 50 \n",
    "kmeans = KMeans(n_clusters=n_clusters, n_init=10)\n",
    "clusters = kmeans.fit_predict(df_imputed_feat)\n",
    "\n",
    "df_imputed_feat['feat_esm1b_148'] = imputed_feat_esm1b_148_column"
   ]
  },
  {
   "cell_type": "code",
   "execution_count": 25,
   "id": "b0e5ae25",
   "metadata": {},
   "outputs": [
    {
     "name": "stdout",
     "output_type": "stream",
     "text": [
      "0\n"
     ]
    }
   ],
   "source": [
    "#Checking for null values in our dataframe to check if missing values were handled well.\n",
    "\n",
    "print(df_imputed_feat.isnull().sum().sum())"
   ]
  },
  {
   "cell_type": "markdown",
   "id": "4553a0e1",
   "metadata": {},
   "source": [
    "### Outlier Detection"
   ]
  },
  {
   "cell_type": "code",
   "execution_count": 26,
   "id": "7daa0a65",
   "metadata": {},
   "outputs": [
    {
     "name": "stdout",
     "output_type": "stream",
     "text": [
      "Number of outliers detected: 1204\n"
     ]
    }
   ],
   "source": [
    "X = df_imputed_feat.values\n",
    "feature_names = df_imputed_feat.columns  \n",
    "\n",
    "# Initialize the Isolation Forest model with feature names\n",
    "iso_forest = IsolationForest(n_estimators=100, contamination=0.03, random_state=42)\n",
    "\n",
    "# Fit the Isolation Forest model on the scaled data\n",
    "iso_forest.fit(X)\n",
    "\n",
    "# Predict outliers using the Isolation Forest model\n",
    "outlier_scores = iso_forest.predict(X)\n",
    "\n",
    "outliers = df_imputed_feat[outlier_scores == -1]\n",
    "\n",
    "# Count the number of outliers\n",
    "num_outliers = sum(outlier_scores == -1)\n",
    "print(\"Number of outliers detected:\", num_outliers)\n"
   ]
  },
  {
   "cell_type": "markdown",
   "id": "af20d4f5",
   "metadata": {},
   "source": [
    "## Feature reduction\n"
   ]
  },
  {
   "cell_type": "code",
   "execution_count": 27,
   "id": "60527e47",
   "metadata": {},
   "outputs": [
    {
     "data": {
      "image/png": "[encoded data removed]",
      "text/plain": [
       "<Figure size 1000x600 with 2 Axes>"
      ]
     },
     "metadata": {},
     "output_type": "display_data"
    }
   ],
   "source": [
    "# Visual of outlier scores in the reduced 2D space.\n",
    "pca = PCA(n_components=2) \n",
    "reduced_data = pca.fit_transform(df_imputed_feat)\n",
    "plt.figure(figsize=(10, 6))\n",
    "\n",
    "plt.scatter(reduced_data[outlier_scores != -1, 0], reduced_data[outlier_scores != -1, 1], c='blue', label='Normal')\n",
    "\n",
    "plt.scatter(reduced_data[outlier_scores == -1, 0], reduced_data[outlier_scores == -1, 1], c='red', label='Outliers')\n",
    "\n",
    "plt.title('Outlier Visualization')\n",
    "plt.xlabel('Principal Component 1')\n",
    "plt.ylabel('Principal Component 2')\n",
    "plt.colorbar(label='Outlier Score')\n",
    "\n",
    "\n",
    "plt.grid(True)\n",
    "plt.legend()\n",
    "plt.show()\n",
    "\n",
    "#use train"
   ]
  },
  {
   "cell_type": "markdown",
   "id": "9718d641",
   "metadata": {},
   "source": [
    "#### Handling missing values "
   ]
  },
  {
   "cell_type": "code",
   "execution_count": 28,
   "id": "7fd6bbfd",
   "metadata": {},
   "outputs": [],
   "source": [
    "cleaned_reduced_data = reduced_data [outlier_scores != -1]"
   ]
  },
  {
   "cell_type": "code",
   "execution_count": 29,
   "id": "9f3ec844",
   "metadata": {},
   "outputs": [
    {
     "name": "stdout",
     "output_type": "stream",
     "text": [
      "Number of elements in reduced_data: 40110\n",
      "Number of elements in cleaned_reduced_data: 38906\n"
     ]
    }
   ],
   "source": [
    "#Comparing the reduced size for reduced data with and without outliers\n",
    "reduced_data_len = len(reduced_data)\n",
    "print(\"Number of elements in reduced_data:\", reduced_data_len)\n",
    "\n",
    "# Or using the len() function\n",
    "cleaned_reduced_data_len = len(cleaned_reduced_data)\n",
    "print(\"Number of elements in cleaned_reduced_data:\", cleaned_reduced_data_len )\n",
    "#umber of elements in reduced_data: 19874\n",
    "#Number of elements in reduced_data: 9937"
   ]
  },
  {
   "cell_type": "code",
   "execution_count": 30,
   "id": "bd962b71",
   "metadata": {},
   "outputs": [
    {
     "data": {
      "image/png": "[encoded data removed]",
      "text/plain": [
       "<Figure size 1000x600 with 1 Axes>"
      ]
     },
     "metadata": {},
     "output_type": "display_data"
    }
   ],
   "source": [
    "\n",
    "# Scatter plot for the cleaned reduced data\n",
    "plt.figure(figsize=(10, 6))\n",
    "plt.scatter(cleaned_reduced_data[:, 0], cleaned_reduced_data[:, 1], c='blue', label='Normal')\n",
    "\n",
    "plt.title('Cleaned Outlier Visualization')\n",
    "plt.xlabel('Principal Component 1')\n",
    "plt.ylabel('Principal Component 2')\n",
    "plt.grid(True)\n",
    "plt.legend()\n",
    "plt.show()"
   ]
  },
  {
   "cell_type": "code",
   "execution_count": 31,
   "id": "fdeda6fb",
   "metadata": {},
   "outputs": [],
   "source": [
    "df_train_info_class.reset_index(drop= True, inplace = True)\n",
    "df_imputed_fic = pd.concat([ df_train_info_class,df_imputed_feat], axis=1)"
   ]
  },
  {
   "cell_type": "code",
   "execution_count": 32,
   "id": "51c0cdd1",
   "metadata": {},
   "outputs": [
    {
     "name": "stdout",
     "output_type": "stream",
     "text": [
      "Shape of cleaned DataFrame after removing outliers: (38906, 1283)\n"
     ]
    }
   ],
   "source": [
    "# Removing Outliers \n",
    "outlier_indices = outlier_scores == -1\n",
    "\n",
    "# Removing rows with outliers from the original DataFrame\n",
    "df_cleaned_fic = df_imputed_fic[~outlier_indices]\n",
    "\n",
    "print(\"Shape of cleaned DataFrame after removing outliers:\", df_cleaned_fic.shape)"
   ]
  },
  {
   "cell_type": "code",
   "execution_count": 33,
   "id": "a2c217f8",
   "metadata": {},
   "outputs": [],
   "source": [
    "# DataFrame containing only 'Feature' columns.\n",
    "df_cleaned_feat = df_cleaned_fic.drop(['Info_cluster', 'Class'], axis=1)\n",
    "\n",
    "# DataFrame containing only 'Info_cluster' and 'Class' columns\n",
    "df_cleaned_class_cluster = df_cleaned_fic[['Info_cluster', 'Class']]\n",
    "\n",
    "\n"
   ]
  },
  {
   "cell_type": "code",
   "execution_count": 34,
   "id": "ca0e6036",
   "metadata": {},
   "outputs": [
    {
     "name": "stdout",
     "output_type": "stream",
     "text": [
      "Shape Before Reduction: (38906, 1281)\n",
      "Shape of the reduced dataset after PCA: (38906, 840)\n"
     ]
    }
   ],
   "source": [
    "scaler = StandardScaler()\n",
    "scaled_reduct_data = scaler.fit_transform(df_cleaned_feat)\n",
    "\n",
    "pca = PCA(n_components=0.95) \n",
    "pca_result = pca.fit_transform(scaled_reduct_data)\n",
    "\n",
    "# Convert pca_result array to DataFrame with original column names\n",
    "df_pca_feat = pd.DataFrame(data=pca_result, columns=df_cleaned_feat.columns[:pca_result.shape[1]])\n",
    "\n",
    "print(\"Shape Before Reduction:\", df_cleaned_feat.shape)\n",
    "print(\"Shape of the reduced dataset after PCA:\", pca_result.shape)"
   ]
  },
  {
   "cell_type": "code",
   "execution_count": 35,
   "id": "dc5b853d",
   "metadata": {},
   "outputs": [
    {
     "data": {
      "image/png": "[encoded data removed]",
      "text/plain": [
       "<Figure size 1000x600 with 1 Axes>"
      ]
     },
     "metadata": {},
     "output_type": "display_data"
    }
   ],
   "source": [
    "# Visualising Variance ratio after PCA\n",
    "\n",
    "plt.figure(figsize=(10, 6))\n",
    "plt.plot(range(1, pca_result.shape[1] + 1), pca.explained_variance_ratio_, marker='o', linestyle='-')\n",
    "plt.xlabel('Number of  Columnns')\n",
    "plt.ylabel('Explained Variance Ratio')\n",
    "plt.title('Explained Variance Ratio by Number of Columnns')\n",
    "plt.grid(True)\n",
    "plt.show()"
   ]
  },
  {
   "cell_type": "markdown",
   "id": "7de55e4d",
   "metadata": {},
   "source": [
    "PCA transformed our high dimensional data into low dimensional data without lossing any signigicant information from features columns and also help in time complexity."
   ]
  },
  {
   "cell_type": "code",
   "execution_count": 36,
   "id": "35842e33",
   "metadata": {
    "scrolled": false
   },
   "outputs": [],
   "source": [
    "df_cleaned_class_cluster.reset_index(drop= True, inplace = True)\n",
    "\n",
    "# Merge df_pca_feat with df_cleaned_class_cluster \n",
    "df_pca_fic = pd.concat([ df_cleaned_class_cluster , df_pca_feat], axis=1)\n"
   ]
  },
  {
   "cell_type": "code",
   "execution_count": null,
   "id": "17526422",
   "metadata": {},
   "outputs": [],
   "source": []
  },
  {
   "cell_type": "code",
   "execution_count": 37,
   "id": "f7267570",
   "metadata": {},
   "outputs": [
    {
     "name": "stdout",
     "output_type": "stream",
     "text": [
      "Total NaN count: 0\n"
     ]
    }
   ],
   "source": [
    "total_nan_count = df_pca_fic.isna().sum().sum()\n",
    "\n",
    "# Print the total count of NaN values\n",
    "print(\"Total NaN count:\", total_nan_count)\n"
   ]
  },
  {
   "cell_type": "markdown",
   "id": "843de338",
   "metadata": {},
   "source": [
    "\n",
    "## Data Upscaling\n"
   ]
  },
  {
   "cell_type": "code",
   "execution_count": 38,
   "id": "4706ca8f",
   "metadata": {},
   "outputs": [
    {
     "name": "stdout",
     "output_type": "stream",
     "text": [
      "Counts of each class label after SMOTE resampling:\n",
      "Class\n",
      " 1    38350\n",
      "-1    38350\n",
      "Name: count, dtype: int64\n"
     ]
    },
    {
     "data": {
      "image/png": "[encoded data removed]",
      "text/plain": [
       "<Figure size 700x400 with 1 Axes>"
      ]
     },
     "metadata": {},
     "output_type": "display_data"
    }
   ],
   "source": [
    "# Resampling \n",
    "\n",
    "smote_resampler = SMOTE()\n",
    "X_resampled, y_resampled = smote_resampler.fit_resample(df_pca_fic.drop(columns='Class'), df_pca_fic['Class'])\n",
    "\n",
    "# Convert the resampled data back to a DataFrame\n",
    "df_resampled_feat = pd.DataFrame(X_resampled, columns=feat_columns)\n",
    "df_resampled_cluster = pd.DataFrame(X_resampled, columns=['Info_cluster'])\n",
    "\n",
    "# Count the occurrences of each class label\n",
    "class_counts = pd.Series(y_resampled).value_counts()\n",
    "df_resampled_fic = pd.concat([X_resampled, y_resampled], axis=1)\n",
    "\n",
    "# Print the class counts\n",
    "print(\"Counts of each class label after SMOTE resampling:\")\n",
    "print(class_counts)\n",
    "\n",
    "\n",
    "#Plotting the resampled class balance\n",
    "\n",
    "plt.figure(figsize=(7, 4))\n",
    "sns.barplot(x=class_counts.index, y=class_counts.values)  \n",
    "plt.title('Balanced Class Distribution (After SMOTE)')\n",
    "plt.xlabel('Class')\n",
    "plt.ylabel('Proportion')\n",
    "plt.xticks(rotation=0) \n",
    "plt.show()\n",
    "\n"
   ]
  },
  {
   "cell_type": "code",
   "execution_count": 39,
   "id": "e3669340",
   "metadata": {},
   "outputs": [],
   "source": [
    "#Dividing our resampled dataframe \n",
    "\n",
    "df_resampled_feat = df_resampled_fic.drop(['Info_cluster', 'Class'], axis=1)\n",
    "df_resampled_info_cluster = df_resampled_fic[['Info_cluster', 'Class']]"
   ]
  },
  {
   "cell_type": "code",
   "execution_count": 40,
   "id": "2aef3b73",
   "metadata": {},
   "outputs": [
    {
     "name": "stdout",
     "output_type": "stream",
     "text": [
      "Shape of the scaled DataFrame: (76700, 840)\n"
     ]
    }
   ],
   "source": [
    "# Initialize the MinMaxScaler\n",
    "scaler = MinMaxScaler()\n",
    "\n",
    "# Scale the resampled data\n",
    "X_resampled_scaled = scaler.fit_transform(df_resampled_feat)\n",
    "\n",
    "# Convert the scaled data back to a DataFrame\n",
    "df_resampled_scaled = pd.DataFrame(data=X_resampled_scaled, columns=df_resampled_feat.columns[:pca_result.shape[1]])\n",
    "\n",
    "# Check the shape of the scaled DataFrame\n",
    "print(\"Shape of the scaled DataFrame:\", df_resampled_scaled.shape)"
   ]
  },
  {
   "cell_type": "code",
   "execution_count": 41,
   "id": "339e30b3",
   "metadata": {},
   "outputs": [
    {
     "data": {
      "image/png": "[encoded data removed]",
      "text/plain": [
       "<Figure size 1000x600 with 1 Axes>"
      ]
     },
     "metadata": {},
     "output_type": "display_data"
    }
   ],
   "source": [
    "## Visualising the variable imbalance after upscaling\n",
    "\n",
    "max_values = df_resampled_scaled.max()\n",
    "min_values = df_resampled_scaled.min()\n",
    "plt.figure(figsize=(10, 6))\n",
    "plt.plot(max_values, label='Max Values', marker='o')\n",
    "plt.plot(min_values, label='Min Values', marker='x')\n",
    "plt.xlabel('Feature Index')\n",
    "plt.ylabel('Feature Value')\n",
    "plt.title('Variable Imbalance')\n",
    "plt.legend()\n",
    "plt.grid(True)\n",
    "plt.show()\n",
    "\n"
   ]
  },
  {
   "cell_type": "code",
   "execution_count": 42,
   "id": "fa53a9a8",
   "metadata": {},
   "outputs": [],
   "source": [
    "df_resampled_info_cluster.reset_index(drop= True, inplace = True)\n",
    "\n",
    "# Merge df_resampled_info_cluster  with df_resampled_scaled on their indices with 'feat_esm1b_1' column serving as the key for merging\n",
    "\n",
    "df_resampled_scaled_fic = pd.concat([ df_resampled_info_cluster , df_resampled_scaled], axis=1)\n"
   ]
  },
  {
   "cell_type": "markdown",
   "id": "9135f5e8",
   "metadata": {},
   "source": [
    "## Model Fitting with Evaluation Metrics\n"
   ]
  },
  {
   "cell_type": "code",
   "execution_count": 43,
   "id": "c327fbc8",
   "metadata": {},
   "outputs": [],
   "source": [
    "# Splitting the data for  preliminary testing \n",
    "gss_train_test = GroupShuffleSplit(n_splits=1, test_size=0.2, random_state=29)\n",
    "gss_train_val = GroupShuffleSplit(n_splits=1, test_size=0.25, random_state=29)\n",
    "\n",
    "X = df_resampled_scaled_fic.drop(columns=['Class'])\n",
    "y = df_resampled_scaled_fic[['Class']]\n",
    "\n",
    "for train_test_index, val_index in gss_train_test.split(X, y, groups=df_resampled_scaled_fic['Info_cluster']):\n",
    "    X_train_test, X_val = X.iloc[train_test_index], X.iloc[val_index]\n",
    "    y_train_test, y_val = y.iloc[train_test_index], y.iloc[val_index]\n",
    "\n",
    "for train_index, test_index in gss_train_val.split(X_train_test, y_train_test, groups=df_resampled_scaled_fic.loc[X_train_test.index]['Info_cluster']):\n",
    "    X_train, X_test = X_train_test.iloc[train_index], X_train_test.iloc[test_index]\n",
    "    y_train, y_test = y_train_test.iloc[train_index], y_train_test.iloc[test_index]\n",
    "\n",
    "\n"
   ]
  },
  {
   "cell_type": "code",
   "execution_count": 44,
   "id": "324003e3",
   "metadata": {},
   "outputs": [],
   "source": [
    "# Suppressing FutureWarnings\n",
    "warnings.simplefilter(action='ignore', category=FutureWarning)\n",
    "\n"
   ]
  },
  {
   "cell_type": "code",
   "execution_count": 45,
   "id": "3a8875e6",
   "metadata": {},
   "outputs": [
    {
     "name": "stdout",
     "output_type": "stream",
     "text": [
      "Logistic Regression Accuracy: 0.6236276570894651\n",
      "Logistic Regression Balanced Accuracy: 0.6724495389950473\n"
     ]
    }
   ],
   "source": [
    "# Logistic Regression\n",
    "\n",
    "random_seed = 29\n",
    "np.random.seed(random_seed)\n",
    "l_model = LogisticRegression(max_iter=1000)\n",
    "l_model.fit(X_train,np.ravel(y_train))\n",
    "logistic_pred = l_model.predict(X_test)\n",
    "logistic_accuracy = accuracy_score(y_test, logistic_pred)\n",
    "logistic_balanced_accuracy = balanced_accuracy_score(np.ravel(y_test), logistic_pred)\n",
    "\n",
    "\n",
    "\n",
    "print(\"Logistic Regression Accuracy:\", logistic_accuracy)\n",
    "print(\"Logistic Regression Balanced Accuracy:\", logistic_balanced_accuracy)"
   ]
  },
  {
   "cell_type": "code",
   "execution_count": 46,
   "id": "9cc963cc",
   "metadata": {},
   "outputs": [],
   "source": [
    "# Suppressing Warnings\n",
    "warnings.simplefilter(action='ignore', category=FutureWarning)"
   ]
  },
  {
   "cell_type": "code",
   "execution_count": 47,
   "id": "7c56b9f9",
   "metadata": {},
   "outputs": [
    {
     "name": "stdout",
     "output_type": "stream",
     "text": [
      "XGBoost Classifier Accuracy: 0.14897220275636533\n",
      "XGBoost Balanced Accuracy: 0.12853975612214047\n"
     ]
    },
    {
     "name": "stderr",
     "output_type": "stream",
     "text": [
      "/Users/pracyaim/opt/anaconda3/lib/python3.9/site-packages/sklearn/metrics/_classification.py:2458: UserWarning: y_pred contains classes not in y_true\n",
      "  warnings.warn(\"y_pred contains classes not in y_true\")\n"
     ]
    }
   ],
   "source": [
    "# XGBoost\n",
    "\n",
    "np.random.seed(random_seed)\n",
    "y_train_encoded = (y_train + 1) // 2  \n",
    "xgb_model = XGBClassifier()\n",
    "xgb_model.fit(X_train, y_train_encoded)\n",
    "xgb_pred = xgb_model.predict(X_test)\n",
    "xgb_accuracy = accuracy_score(y_test, xgb_pred)\n",
    "xgb_balanced_accuracy = balanced_accuracy_score(y_test, xgb_pred)\n",
    "\n",
    "print(\"XGBoost Classifier Accuracy:\", xgb_accuracy)\n",
    "print(\"XGBoost Balanced Accuracy:\", xgb_balanced_accuracy)"
   ]
  },
  {
   "cell_type": "code",
   "execution_count": 48,
   "id": "c6813835",
   "metadata": {
    "scrolled": true
   },
   "outputs": [
    {
     "name": "stdout",
     "output_type": "stream",
     "text": [
      "KNN Classifier Accuracy: 0.7116327960756833\n",
      "KNN Classifier Balanced Accuracy: 0.7297754996489214\n"
     ]
    }
   ],
   "source": [
    "#KNN\n",
    "\n",
    "np.random.seed(random_seed)\n",
    "classifier = KNeighborsClassifier(np.random.seed(random_seed))\n",
    "knn_model = KNeighborsClassifier()\n",
    "knn_model.fit(X_train, y_train.values.ravel())\n",
    "knn_pred = knn_model.predict(X_test)\n",
    "knn_accuracy = accuracy_score(y_test.values.ravel(), knn_pred)\n",
    "knn_balanced_accuracy = balanced_accuracy_score(y_test.values.ravel(), knn_pred)\n",
    "\n",
    "\n",
    "mean_balanced_accuracy = (knn_accuracy + knn_accuracy) / 2\n",
    "print(\"KNN Classifier Accuracy:\", knn_accuracy)\n",
    "print(\"KNN Classifier Balanced Accuracy:\", knn_balanced_accuracy)"
   ]
  },
  {
   "cell_type": "code",
   "execution_count": 49,
   "id": "f8b5a621",
   "metadata": {},
   "outputs": [
    {
     "name": "stdout",
     "output_type": "stream",
     "text": [
      "Random Forest Classifier Accuracy: 0.48750291987853306\n",
      "Random Forest Classifier Balanced Accuracy: 0.5577950216668346\n"
     ]
    }
   ],
   "source": [
    "# Random Forest \n",
    "\n",
    "np.random.seed(random_seed)\n",
    "rf_model = RandomForestClassifier(n_estimators=100, random_state=random_seed)\n",
    "rf_model.fit(X_train, y_train.values.ravel())\n",
    "rf_pred = rf_model.predict(X_test)\n",
    "rf_accuracy = accuracy_score(y_test.values.ravel(), rf_pred)\n",
    "rf_balanced_accuracy = balanced_accuracy_score(y_test.values.ravel(), rf_pred)\n",
    "\n",
    "print(\"Random Forest Classifier Accuracy:\", rf_accuracy)\n",
    "print(\"Random Forest Classifier Balanced Accuracy:\", rf_balanced_accuracy )"
   ]
  },
  {
   "cell_type": "code",
   "execution_count": 50,
   "id": "e2f73f8b",
   "metadata": {},
   "outputs": [
    {
     "name": "stdout",
     "output_type": "stream",
     "text": [
      "Decision Tree Accuracy: 0.5141906096706377\n",
      "Decision Tree Balanced Accuracy: 0.5724226873267725\n"
     ]
    }
   ],
   "source": [
    "# DecisionTree\n",
    "\n",
    "np.random.seed(random_seed)\n",
    "dt_classifier = DecisionTreeClassifier()\n",
    "dt_classifier.fit(X_train, y_train)\n",
    "dt_pred = dt_classifier.predict(X_test)\n",
    "dt_accuracy = accuracy_score(y_test, dt_pred)\n",
    "dt_balanced_accuracy = balanced_accuracy_score(y_test, dt_pred)\n",
    "\n",
    "print(\"Decision Tree Accuracy:\", dt_accuracy)\n",
    "print(\"Decision Tree Balanced Accuracy:\", dt_balanced_accuracy)"
   ]
  },
  {
   "cell_type": "markdown",
   "id": "49f1d98b",
   "metadata": {},
   "source": [
    "## Data Mining Pipeline Consolidation"
   ]
  },
  {
   "cell_type": "code",
   "execution_count": 51,
   "id": "d1276d66",
   "metadata": {},
   "outputs": [],
   "source": [
    "#  preprocessing pipeline\n",
    "preprocessing_pipeline = Pipeline([\n",
    "    ('imputer', KNNImputer(n_neighbors=50)),\n",
    "    ('scaler', StandardScaler())\n",
    "])"
   ]
  },
  {
   "cell_type": "code",
   "execution_count": 52,
   "id": "9d00db0c",
   "metadata": {
    "scrolled": false
   },
   "outputs": [
    {
     "name": "stdout",
     "output_type": "stream",
     "text": [
      "Best Hyperparameters: {'classifier__C': 0.2}\n",
      "Train Balanced Accuracy: 0.9971406037418088\n",
      "Test Balanced Accuracy: 0.6428331858966311\n"
     ]
    }
   ],
   "source": [
    "# Using  Logistic Regression classifier\n",
    "\n",
    "\n",
    "classifier1 = l_model\n",
    "\n",
    "# Create full pipeline\n",
    "pipeline_lr = Pipeline([\n",
    "    ('preprocessing', preprocessing_pipeline),\n",
    "    ('classifier', classifier1)\n",
    "])\n",
    "\n",
    "# hyperparameters grid for grid search\n",
    "param_grid = {\n",
    "    'classifier__C': [0.001, 0.01, 0.1, 0.2, 10, 100, 1000],  # Regularisation parameter\n",
    "    #'classifier__solver': ['newton-cg', 'lbfgs', 'liblinear', 'sag', 'saga']  # Solver parameter\n",
    "}\n",
    "\n",
    "# Perform grid search with 5-fold cross-validation\n",
    "grid_search = GridSearchCV(pipeline_lr, param_grid, cv=5, scoring='balanced_accuracy')\n",
    "\n",
    "# Fit grid search on training data\n",
    "grid_search.fit(X_train, y_train.values.ravel())  # ravel() to convert y to 1D array\n",
    "\n",
    "# Print best hyperparameters and corresponding balanced accuracy\n",
    "print(\"Best Hyperparameters:\", grid_search.best_params_)\n",
    "print(\"Train Balanced Accuracy:\", grid_search.best_score_)\n",
    "\n",
    "# Evaluate the model on the test set\n",
    "y_pred = grid_search.predict(X_test)\n",
    "test_balanced_accuracy = balanced_accuracy_score(y_test, y_pred)\n",
    "print(\"Test Balanced Accuracy:\", test_balanced_accuracy)\n",
    "\n",
    "\n"
   ]
  },
  {
   "cell_type": "code",
   "execution_count": 53,
   "id": "393ad858",
   "metadata": {},
   "outputs": [],
   "source": [
    "### Logistic Regression outperformed other models with the best hyperparameters, achieving high train and test balanced accuracies."
   ]
  },
  {
   "cell_type": "code",
   "execution_count": null,
   "id": "cc20ba91",
   "metadata": {},
   "outputs": [],
   "source": []
  },
  {
   "cell_type": "markdown",
   "id": "f1d3d49d",
   "metadata": {},
   "source": [
    "## Random Forest overfitted its training hence why it couldnt generalise well the test data.\n",
    "It's been made a comment due to lengthy runtime but retained for potential future verification."
   ]
  },
  {
   "cell_type": "markdown",
   "id": "56f9d8a7",
   "metadata": {},
   "source": [
    "## Using  Random Forest Classifier\n",
    "\n",
    "classifier_random_forest = RandomForestClassifier()\n",
    "\n",
    "## Create full pipeline\n",
    "pipeline_rf = Pipeline([\n",
    "    ('preprocessing', preprocessing_pipeline),\n",
    "    ('classifier', classifier_random_forest)\n",
    "])\n",
    "\n",
    "## Hyperparameters grid for grid search\n",
    "param_grid_rf = {\n",
    "    'classifier__n_estimators': [100, 200, 300],  # Number of trees in the forest\n",
    "    'classifier__max_depth': [None, 10, 20],  # Maximum depth of the tree\n",
    "}\n",
    "\n",
    "## Perform grid search with 5-fold cross-validation\n",
    "grid_search_rf = GridSearchCV(pipeline_rf, param_grid_rf, cv=5, scoring='balanced_accuracy')\n",
    "\n",
    "## Fit grid search on training data\n",
    "grid_search_rf.fit(X_train, y_train.values.ravel())  # ravel() to convert y to 1D array\n",
    "\n",
    "## Print best hyperparameters and corresponding balanced accuracy\n",
    "print(\"Best Hyperparameters:\", grid_search_rf.best_params_)\n",
    "print(\"Train Balanced Accuracy:\", grid_search_rf.best_score_)\n",
    "\n",
    "## Evaluate the model on the test set\n",
    "y_pred_rf = grid_search_rf.predict(X_test)\n",
    "test_balanced_accuracy_rf = balanced_accuracy_score(y_test, y_pred_rf)\n",
    "print(\"Test Balanced Accuracy:\", test_balanced_accuracy_rf)"
   ]
  },
  {
   "cell_type": "code",
   "execution_count": null,
   "id": "0b3354b8",
   "metadata": {
    "scrolled": true
   },
   "outputs": [],
   "source": [
    "# Using KNN classifier\n",
    "\n",
    "\n",
    "classifier2 = KNeighborsClassifier()\n",
    "\n",
    "# Create full pipeline\n",
    "pipeline_knn = Pipeline([\n",
    "    ('preprocessing', preprocessing_pipeline),\n",
    "    ('classifier', classifier2)\n",
    "])\n",
    "\n",
    "# hyperparameters grid for grid search\n",
    "param_grid = {\n",
    "    'classifier__n_neighbors': [3, 5, 7],  # Number of neighbors\n",
    "    'classifier__weights': ['uniform', 'distance'],  # Weight function\n",
    "}\n",
    "\n",
    "# Perform grid search with 5-fold cross-validation\n",
    "grid_search = GridSearchCV(pipeline_knn, param_grid, cv=5, scoring='balanced_accuracy')\n",
    "\n",
    "# Fit grid search on training data\n",
    "grid_search.fit(X_train, y_train.values.ravel())  # ravel() to convert y to 1D array\n",
    "\n",
    "# Print best hyperparameters and corresponding balanced accuracy\n",
    "print(\"Best Hyperparameters:\", grid_search.best_params_)\n",
    "print(\"Train Balanced Accuracy:\", grid_search.best_score_)\n",
    "\n",
    "# Evaluate the model on the test set\n",
    "y_pred = grid_search.predict(X_test)\n",
    "test_balanced_accuracy = balanced_accuracy_score(y_test, y_pred)\n",
    "print(\"Test Balanced Accuracy:\", test_balanced_accuracy)"
   ]
  },
  {
   "cell_type": "markdown",
   "id": "347cb32c",
   "metadata": {},
   "source": [
    "### KNN achieved a high test balanced accuracy with optimal hyperparameters making it the second best of the three models."
   ]
  },
  {
   "cell_type": "code",
   "execution_count": null,
   "id": "c6e1118c",
   "metadata": {},
   "outputs": [],
   "source": [
    "# Load the new CSV file\n",
    "df_holdout = pd.read_csv('/Users/pracyaim/Desktop/understanding Data/Assignment/df_holdout.csv', sep=\";\")\n",
    "\n",
    "# Drop the first 8 columns and the 'Class' column and unused feat columns for a new feature df\n",
    "df_new_test = df_holdout.iloc[:, 9:299]\n",
    "\n",
    "#Keep the  first 8 columns for a new info df\n",
    "df_new_info= df_holdout.iloc[:, :9]\n",
    "\n",
    "\n",
    "# Fit the best pipeline to the data(Logistic Regression)\n",
    "pipeline_lr.fit(df_train_feat ,df_train_info_class['Class'])\n",
    "\n",
    "# Fit the preprocessing pipeline to the data\n",
    "preprocessing_pipeline.fit(df_new_test)\n",
    "\n",
    "# Save the trained preprocessing pipeline\n",
    "with open('trained_preprocessing_pipeline.pkl', 'wb') as file:\n",
    "    pickle.dump(preprocessing_pipeline, file)"
   ]
  },
  {
   "cell_type": "code",
   "execution_count": null,
   "id": "703ef62a",
   "metadata": {},
   "outputs": [],
   "source": [
    "\n",
    "# Load the trained pipeline\n",
    "with open('trained_pipeline.pkl', 'rb') as file:\n",
    "    preprocessing_pipeline = pickle.load(file)\n",
    "    \n",
    "np.random.seed(random_seed)\n",
    "half_rows = len(df_new_test) // 2\n",
    "df_new_test_half = df_new_test.iloc[:half_rows, :]\n",
    "df_new_test_processed = preprocessing_pipeline.transform(df_new_test)\n",
    "\n",
    "# Predict labels for the test data\n",
    "predicted_labels = pipeline_lr.predict(df_new_test)\n",
    "\n",
    "# Display the predicted labels\n",
    "print(\"Predicted Labels:\", predicted_labels)\n",
    "\n"
   ]
  },
  {
   "cell_type": "markdown",
   "id": "2d14565f",
   "metadata": {},
   "source": [
    "### Predicted label count in percentage"
   ]
  },
  {
   "cell_type": "code",
   "execution_count": null,
   "id": "0ee7f8f8",
   "metadata": {
    "scrolled": false
   },
   "outputs": [],
   "source": [
    "unique_labels, counts = np.unique(predicted_labels, return_counts=True)\n",
    "total_samples = len(predicted_labels)\n",
    "\n",
    "for label, count in zip(unique_labels, counts):\n",
    "    percentage = (count / total_samples) * 100\n",
    "    print(f\"Label: {label}, Percentage: {percentage:.2f}%\")\n",
    "\n",
    "\n",
    "\n"
   ]
  },
  {
   "cell_type": "markdown",
   "id": "f97a7ffb",
   "metadata": {},
   "source": [
    "## Generation of predictions on holdout set"
   ]
  },
  {
   "cell_type": "code",
   "execution_count": null,
   "id": "c15fc36a",
   "metadata": {
    "scrolled": true
   },
   "outputs": [],
   "source": [
    "# Create DataFrame with predictions\n",
    "predictions_df = pd.DataFrame({\n",
    "    'Info_PepID': df_new_info['Info_PepID'],\n",
    "    'Info_pos': df_new_info['Info_pos'],\n",
    "    'Prediction': predicted_labels,\n",
    "})\n",
    "\n",
    "# Save predictions to CSV\n",
    "predictions_df.to_csv(\"predictions_holdout.csv\", index=False)"
   ]
  },
  {
   "cell_type": "markdown",
   "id": "6afa9145",
   "metadata": {},
   "source": [
    "df = pd.read_csv('/Users/pracyaim/Downloads/predictions_holdout.csv')"
   ]
  },
  {
   "cell_type": "markdown",
   "id": "271a6957",
   "metadata": {},
   "source": [
    "#### Checking the proportion of each Class within each 'Info_cluster' group\n",
    "df = pd.read_csv('/Users/pracyaim/Downloads/predictions_holdout.csv')\n",
    "class_balance = df.groupby('Info_PepID')['Prediction'].value_counts(normalize=True)\n",
    "\n",
    "###  class balance \n",
    "print(class_balance)\n",
    "\n",
    "### Count the number of unique class balances\n",
    "num_unique_class_balances = class_balance.value_counts().shape[0]\n",
    "print(\"Number of unique class balances:\", num_unique_class_balances)"
   ]
  },
  {
   "cell_type": "markdown",
   "id": "e336a0ca",
   "metadata": {},
   "source": [
    "Checked for unique class balance in info columns in the 'predictions_holdout' dataframe, to analyse the variability in our class distributions across:\n",
    "\n",
    "29  in 'Info_PepID' \n",
    "\n",
    "37 in 'Info_pos'\n",
    "\n",
    "\n"
   ]
  },
  {
   "cell_type": "markdown",
   "id": "f0f4691a",
   "metadata": {},
   "source": [
    "## References\n",
    "1.\tAnon. 2012. Two Recommended Solutions for Missing Data: Multiple Imputation and Maximum Likelihood. [online] The Analysis Factor. Available at: <https://www.theanalysisfactor.com/missing-data-two-recommended-solutions/> [Accessed 26 January 2022].\n",
    "2.\tBrusco, M.J., Shireman, E. and Steinley, D., 2017. A comparison of latent class, K-means, and K-median methods for clustering dichotomous data. Psychological Methods, 22(3), pp.563–580. https://doi.org/10.1037/met0000095.\n",
    "3.\tPotocnakova, L., Bhide, M. and Pulzova, L.B., 2016. An Introduction to B-Cell Epitope Mapping and In Silico Epitope Prediction. Journal of Immunology Research, 2016, pp.1–11. https://doi.org/10.1155/2016/6760830.\n",
    "4.\tZakiah, A., 2020. Outlier Detection of Transaction Data Using DBSCAN Algorithm. International Journal of Psychosocial Rehabilitation, 24(02), pp.3232–3240. https://doi.org/10.37200/ijpr/v24i2/pr200632."
   ]
  }
 ],
 "metadata": {
  "kernelspec": {
   "display_name": "Python 3 (ipykernel)",
   "language": "python",
   "name": "python3"
  },
  "language_info": {
   "codemirror_mode": {
    "name": "ipython",
    "version": 3
   },
   "file_extension": ".py",
   "mimetype": "text/x-python",
   "name": "python",
   "nbconvert_exporter": "python",
   "pygments_lexer": "ipython3",
   "version": "3.9.13"
  }
 },
 "nbformat": 4,
 "nbformat_minor": 5
}
